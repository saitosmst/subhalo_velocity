{
 "cells": [
  {
   "cell_type": "markdown",
   "metadata": {},
   "source": [
    "# Preface"
   ]
  },
  {
   "cell_type": "code",
   "execution_count": 1,
   "metadata": {
    "collapsed": true
   },
   "outputs": [],
   "source": [
    "%matplotlib inline\n",
    "import getpass\n",
    "import h5py\n",
    "import itertools\n",
    "import math\n",
    "import numpy as np\n",
    "import os\n",
    "import pickle\n",
    "import pyfits\n",
    "import socket\n",
    "import sys\n",
    "import time\n",
    "\n",
    "#require CosmoloPy\n",
    "import cosmolopy.distance as cd\n",
    "from scipy import integrate, interpolate\n",
    "\n",
    "if getpass.getuser()=='ssaito':\n",
    "    HOMEDIR = '/Users/ssaito/'\n",
    "    #DIRNAME = HOMEDIR+'Dropbox/Work/Project/LyA_RT/sim_rt/illustris/test/catalog/'\n",
    "elif getpass.getuser()=='shsaito':\n",
    "    HOMEDIR = '/Users/shsaito/'\n",
    "    #DIRNAME = '/Volumes/MyBookThunderboltDuo/CosmoTreasure/mock/cosmos/'\n",
    "    \n",
    "##CONSTANTS\n",
    "Gnewton = 4.302E-9 #Mpc/Msun(km/s)**2\n",
    "SQDEGtoSTR = math.pi**2./32400\n",
    "Mpctocm = 3.0857E+24\n",
    "\n",
    "## Plot\n",
    "import matplotlib.pyplot as plt\n",
    "from matplotlib import ticker, patches\n",
    "from matplotlib.ticker import MultipleLocator, FormatStrFormatter\n",
    "from ss_default_plot import *"
   ]
  },
  {
   "cell_type": "markdown",
   "metadata": {},
   "source": [
    "## read subhalo catalog"
   ]
  },
  {
   "cell_type": "code",
   "execution_count": 2,
   "metadata": {
    "collapsed": true
   },
   "outputs": [],
   "source": [
    "#MDPL2 simulation\n",
    "CP = {'omega_M_0':0.307115, 'omega_lambda_0':0.692885, 'omega_k_0':0.0, 'h':0.677700}\n",
    "a_scale = 0.65650\n",
    "z_red = 1./a_scale - 1.\n",
    "KMpSECtoMPCpH = 1./a_scale/100./cd.e_z(z_red, **CP)\n",
    "Lbox = 1000."
   ]
  },
  {
   "cell_type": "code",
   "execution_count": 3,
   "metadata": {
    "collapsed": true
   },
   "outputs": [],
   "source": [
    "arr_subhalos = pyfits.open('/Volumes/MyBookThunderboltDuo/CosmoTreasure/sim/multidark/MDPL2/Rockstar/halocatalog/hlist_0.65650.list.all.Vpeakcut160.0.hostsubs.fits')[1].data"
   ]
  },
  {
   "cell_type": "code",
   "execution_count": 4,
   "metadata": {
    "scrolled": true
   },
   "outputs": [
    {
     "name": "stdout",
     "output_type": "stream",
     "text": [
      "total number of subhalos: 3834194\n",
      "      number of hosts:    1214176\n",
      "      number of subhalos: 2620018\n",
      "\n",
      "field includes:\n",
      "['id', 'upid', 'mvir', 'rvir', 'x', 'y', 'z', 'vx', 'vy', 'vz', 'Rs_Klypin', 'M200b', 'Mpeak', 'Vpeak', 'Halfmass_Scale', 'Acc_Rate_Inst', 'Acc_Rate_100Myr', 'Acc_Rate_1*Tdyn', 'Acc_Rate_2*Tdyn', 'Acc_Rate_Mpeak', 'Vmax@Mpeak', 'vz_host', 'Mhost', 'Vpeak_host', 'Rsub', 'Zchar', 'Zform', 'Zacc', 'Zstarve']\n"
     ]
    }
   ],
   "source": [
    "## check simulations\n",
    "print 'total number of subhalos: {0}'.format(arr_subhalos.shape[0])\n",
    "print '      number of hosts:    {0}'.format(np.where(arr_subhalos['upid']==-1)[0].shape[0])\n",
    "print '      number of subhalos: {0}\\n'.format(np.where(arr_subhalos['upid']!=-1)[0].shape[0])\n",
    "print 'field includes:'\n",
    "print arr_subhalos.names"
   ]
  },
  {
   "cell_type": "code",
   "execution_count": 44,
   "metadata": {},
   "outputs": [
    {
     "name": "stdout",
     "output_type": "stream",
     "text": [
      "[ 4.66879975  3.90148229  9.77986579 ...,  3.42083669  6.05934929\n",
      "  6.14847983]\n"
     ]
    }
   ],
   "source": [
    "select_host = np.logical_and(arr_subhalos['mvir']>=10.**13.5, arr_subhalos['upid']==-1)\n",
    "print arr_subhalos[select_host]['rvir']/arr_subhalos[select_host]['Rs_Klypin']"
   ]
  },
  {
   "cell_type": "code",
   "execution_count": 5,
   "metadata": {
    "collapsed": true
   },
   "outputs": [],
   "source": [
    "## read added values\n",
    "arr_addvals = pyfits.open('/Volumes/MyBookThunderboltDuo/CosmoTreasure/sim/multidark/MDPL2/Rockstar/halocatalog/hlist_0.65650.list.all.Vpeakcut160.0.hostsubs.Vprofile.fits')[1].data"
   ]
  },
  {
   "cell_type": "markdown",
   "metadata": {},
   "source": [
    "## add values for velocity profile"
   ]
  },
  {
   "cell_type": "code",
   "execution_count": 45,
   "metadata": {
    "collapsed": true
   },
   "outputs": [],
   "source": [
    "## sort the subhalo catalog\n",
    "dtype_addvals = np.dtype([('id', int), ('upid', int), ('sid', int), \n",
    "                          ('x', float), ('y', float), ('z', float), \n",
    "                          ('vx', float), ('vy', float), ('vz', float), \n",
    "                          ('Xsub', float), ('Ysub', float), ('Zsub', float), ('Rsub', float), \n",
    "                          ('V_r', float), ('V_theta', float), ('V_phi', float), \n",
    "                          ('mvir_sub', float), ('mvir_host', float), ('rvir_host', float),\n",
    "                          ('cvir_host', float), ('Vvir_host', float)])\n",
    "arr_addvals = np.zeros(shape=arr_subhalos.shape[0], dtype=dtype_addvals)\n",
    "\n",
    "for name in ['id','upid','x','y','z','vx','vy','vz']:\n",
    "    arr_addvals[name][:] = arr_subhalos[name][:]\n",
    "arr_addvals['mvir_sub'][:] = arr_subhalos['mvir'][:]\n",
    "#as for now, insert all subhalo values for host properties\n",
    "arr_addvals['mvir_host'][:] = arr_subhalos['mvir'][:]\n",
    "arr_addvals['rvir_host'][:] = arr_subhalos['rvir'][:]/1000. #[Mpc/h]\n",
    "arr_addvals['cvir_host'][:] = arr_subhalos['rvir'][:]/arr_subhalos['Rs_Klypin'][:]\n",
    "\n",
    "#copy host id to sid to get a quick sort\n",
    "arr_addvals['sid'][:] = arr_subhalos['upid'][:]\n",
    "select_host = arr_addvals['sid']==-1\n",
    "arr_addvals['sid'][select_host] = arr_addvals['id'][select_host]\n",
    "\n",
    "#sort in terms of sid to collect a chunck of host-subhalos\n",
    "arr_addvals.sort(order=('sid', 'upid'))\n",
    "where_host = np.where(arr_addvals['upid']==-1)[0]"
   ]
  },
  {
   "cell_type": "markdown",
   "metadata": {},
   "source": [
    "<Strong>Mapping from Cartesian to Spherical coordinate</Strong>\n",
    "\n",
    "Positions:\n",
    "\\begin{eqnarray}\n",
    " X & = & r\\sin\\phi\\cos\\theta\\\\\n",
    " Y & = & r\\sin\\phi\\sin\\theta\\\\\n",
    " Z & = & r\\cos\\phi\n",
    "\\end{eqnarray}\n",
    "\n",
    "Velocity: \n",
    "\\begin{equation}\n",
    "\\vec{v} = \\dot{r}\\vec{e}_{r}+r\\dot{\\theta}\\sin\\phi\\vec{e}_{\\theta}+r\\dot{\\phi}\\vec{e}_{\\phi}\n",
    "\\end{equation}\n",
    "\n",
    "where\n",
    "\\begin{eqnarray}\n",
    " \\dot{r} & = & \\frac{X v_{X}+Y v_{Y}+Z v_{Z}}{r}\\\\\n",
    " \\dot{\\theta} & = & \\frac{v_{Y}X-v_{X}Y}{X^{2}+Y^{2}}\\\\\n",
    " \\dot{\\phi} & = & \\frac{Z(Xv_{X}+Yv_{Y})-(X^{2}+Y^{2})v_{Z}}{r^{2}\\sqrt{X^{2}+Y^{2}}}\n",
    "\\end{eqnarray}"
   ]
  },
  {
   "cell_type": "code",
   "execution_count": 24,
   "metadata": {
    "collapsed": true
   },
   "outputs": [],
   "source": [
    "def conv_Vcart_to_Vsphe(x, y, z, v_x, v_y, v_z):\n",
    "    v_r = np.zeros(shape=(x.shape[0],), dtype=np.float)\n",
    "    v_phi = np.zeros(shape=(x.shape[0],), dtype=np.float)\n",
    "    v_theta = np.zeros(shape=(x.shape[0],), dtype=np.float)\n",
    "    \n",
    "    r = (x**2.+y**2.+z**2.)**0.5\n",
    "    \n",
    "    # v_r = rdot\n",
    "    v_r = (x*v_x + y*v_y + z*v_z)/r\n",
    "    \n",
    "    #taking care of the X=Y=0 case\n",
    "    select_xy0 = np.logical_and(x==0., y==0.)\n",
    "    v_theta[select_xy0] = 0.\n",
    "    if z[select_xy0]>0:\n",
    "        v_phi[select_xy0] = (v_x[select_xy0]**2.+v_y[select_xy0]**2.)**0.5\n",
    "    else:\n",
    "        v_phi[select_xy0] = -(v_x[select_xy0]**2.+v_y[select_xy0]**2.)**0.5\n",
    "\n",
    "    # v_theta = thetadot * r * sin(phi)\n",
    "    v_theta[~select_xy0] = (v_y[~select_xy0]*x[~select_xy0] - v_x[~select_xy0]*y[~select_xy0])/(x[~select_xy0]**2.+y[~select_xy0]**2.)**0.5\n",
    "    \n",
    "    # v_phi = r * phidot\n",
    "    v_phi[~select_xy0] = (z[~select_xy0]*(x[~select_xy0]*v_x[~select_xy0]+y[~select_xy0]*v_y[~select_xy0]) - v_z[~select_xy0]*(x[~select_xy0]**2.+y[~select_xy0]**2.))/r/(x[~select_xy0]**2.+y[~select_xy0]**2.)**0.5\n",
    "    \n",
    "    return v_r, v_theta, v_phi"
   ]
  },
  {
   "cell_type": "code",
   "execution_count": 46,
   "metadata": {},
   "outputs": [
    {
     "name": "stdout",
     "output_type": "stream",
     "text": [
      "CPU times: user 7min 33s, sys: 1.81 s, total: 7min 35s\n",
      "Wall time: 14min 21s\n"
     ]
    }
   ],
   "source": [
    "%%time\n",
    "\n",
    "for ihost in np.arange(where_host.shape[0]-1):\n",
    "    indx_thishost = where_host[ihost]\n",
    "    indx_nexthost = where_host[ihost+1]\n",
    "    \n",
    "    Xsub = arr_addvals['x'][indx_thishost+1:indx_nexthost] - arr_addvals['x'][indx_thishost]\n",
    "    Ysub = arr_addvals['y'][indx_thishost+1:indx_nexthost] - arr_addvals['y'][indx_thishost]\n",
    "    Zsub = arr_addvals['z'][indx_thishost+1:indx_nexthost] - arr_addvals['z'][indx_thishost]\n",
    "    #taking care of periodic boundary condition\n",
    "    where_Xsub_toolow = Xsub[:] < -10.\n",
    "    Xsub[where_Xsub_toolow] += Lbox\n",
    "    where_Xsub_toohigh = Xsub[:] > 10.\n",
    "    Xsub[where_Xsub_toohigh] -= Lbox\n",
    "    where_Ysub_toolow = Ysub[:] < -10.\n",
    "    Ysub[where_Ysub_toolow] += Lbox\n",
    "    where_Ysub_toohigh = Ysub[:] > 10.\n",
    "    Ysub[where_Ysub_toohigh] -= Lbox\n",
    "    where_Zsub_toolow = Zsub[:] < -10.\n",
    "    Zsub[where_Zsub_toolow] += Lbox\n",
    "    where_Zsub_toohigh = Zsub[:] > 10.\n",
    "    Zsub[where_Zsub_toohigh] -= Lbox\n",
    "    \n",
    "    # host property\n",
    "    arr_addvals['mvir_host'][indx_thishost+1:indx_nexthost] = arr_addvals['mvir_host'][indx_thishost]\n",
    "    arr_addvals['rvir_host'][indx_thishost+1:indx_nexthost] = arr_addvals['rvir_host'][indx_thishost]\n",
    "    arr_addvals['cvir_host'][indx_thishost+1:indx_nexthost] = arr_addvals['cvir_host'][indx_thishost]\n",
    "    arr_addvals['Vvir_host'][indx_thishost+1:indx_nexthost] = np.sqrt(Gnewton*arr_addvals['mvir_host'][indx_thishost]/arr_addvals['rvir_host'][indx_thishost])\n",
    "    \n",
    "    \n",
    "    # cartesian coordinate [Mpc/h]\n",
    "    arr_addvals['Xsub'][indx_thishost+1:indx_nexthost] = Xsub\n",
    "    arr_addvals['Ysub'][indx_thishost+1:indx_nexthost] = Ysub\n",
    "    arr_addvals['Zsub'][indx_thishost+1:indx_nexthost] = Zsub\n",
    "    arr_addvals['Rsub'][indx_thishost+1:indx_nexthost] = (Xsub**2.+Ysub**2.+Zsub**2.)**0.5\n",
    "    \n",
    "    # convert velocity [km/s] to [Mpc/h] \n",
    "    V_Xsub = (arr_addvals['vx'][indx_thishost+1:indx_nexthost] - arr_addvals['vx'][indx_thishost])*KMpSECtoMPCpH\n",
    "    V_Ysub = (arr_addvals['vy'][indx_thishost+1:indx_nexthost] - arr_addvals['vy'][indx_thishost])*KMpSECtoMPCpH\n",
    "    V_Zsub = (arr_addvals['vz'][indx_thishost+1:indx_nexthost] - arr_addvals['vz'][indx_thishost])*KMpSECtoMPCpH\n",
    "    \n",
    "    V_r, V_theta, V_phi = conv_Vcart_to_Vsphe(Xsub, Ysub, Zsub, V_Xsub, V_Ysub, V_Zsub)\n",
    "    # now convert back to [km/s]\n",
    "    arr_addvals['V_r'][indx_thishost+1:indx_nexthost] = V_r/KMpSECtoMPCpH\n",
    "    arr_addvals['V_theta'][indx_thishost+1:indx_nexthost] = V_theta/KMpSECtoMPCpH\n",
    "    arr_addvals['V_phi'][indx_thishost+1:indx_nexthost] = V_phi/KMpSECtoMPCpH"
   ]
  },
  {
   "cell_type": "code",
   "execution_count": 47,
   "metadata": {},
   "outputs": [
    {
     "name": "stderr",
     "output_type": "stream",
     "text": [
      "/usr/local/lib/python2.7/site-packages/ipykernel_launcher.py:21: PyfitsDeprecationWarning: The new_table function is deprecated as of version 3.3 and may be removed in a future version.\n",
      "\n",
      "        Use :meth:`BinTableHDU.from_columns` for new BINARY tables or :meth:`TableHDU.from_columns` for new ASCII tables instead.\n"
     ]
    },
    {
     "name": "stdout",
     "output_type": "stream",
     "text": [
      "catalog fits file is saved into /Volumes/MyBookThunderboltDuo/CosmoTreasure/sim/multidark/MDPL2/Rockstar/halocatalog/hlist_0.65650.list.all.Vpeakcut160.0.hostsubs.Vprofile.fits\n"
     ]
    }
   ],
   "source": [
    "#save into fits file\n",
    "Save_FitsColumns = pyfits.ColDefs([pyfits.Column(name='id', format='i8'),\n",
    "                                   pyfits.Column(name='upid', format='i8'),\n",
    "                                   pyfits.Column(name='sid', format='i8'),\n",
    "                                   pyfits.Column(name='Xsub', format='f8'),\n",
    "                                   pyfits.Column(name='Ysub', format='f8'),\n",
    "                                   pyfits.Column(name='Zsub', format='f8'),\n",
    "                                   pyfits.Column(name='Rsub', format='f8'),\n",
    "                                   pyfits.Column(name='V_r', format='f8'),\n",
    "                                   pyfits.Column(name='V_phi', format='f8'),\n",
    "                                   pyfits.Column(name='V_theta', format='f8'), \n",
    "                                   pyfits.Column(name='mvir_sub', format='f8'),\n",
    "                                   pyfits.Column(name='mvir_host', format='f8'),\n",
    "                                   pyfits.Column(name='rvir_host', format='f8'),\n",
    "                                   pyfits.Column(name='cvir_host', format='f8'),\n",
    "                                   pyfits.Column(name='Vvir_host', format='f8')])\n",
    "\n",
    "MYCOMMENTS = []\n",
    "MYCOMMENTS.append(\"gerenrated by check_Jeans.ipynb\")\n",
    "\n",
    "tmptbhdu = pyfits.new_table(Save_FitsColumns, nrows=arr_addvals.shape[0])\n",
    "for name in tmptbhdu.columns.names:\n",
    "    tmptbhdu.data.field(name)[:] = arr_addvals[name][:]\n",
    "\n",
    "tmppmhdu = pyfits.PrimaryHDU()\n",
    "for i in xrange(len(MYCOMMENTS)):\n",
    "    tmppmhdu.header.add_comment(MYCOMMENTS[i])\n",
    "\n",
    "tmphdulist = pyfits.HDUList([tmppmhdu, tmptbhdu])\n",
    "savefile = '/Volumes/MyBookThunderboltDuo/CosmoTreasure/sim/multidark/MDPL2/Rockstar/halocatalog/hlist_0.65650.list.all.Vpeakcut160.0.hostsubs.Vprofile.fits'\n",
    "tmphdulist.writeto(savefile, clobber=True)\n",
    "print 'catalog fits file is saved into', savefile"
   ]
  },
  {
   "cell_type": "markdown",
   "metadata": {},
   "source": [
    "# Radial Profile"
   ]
  },
  {
   "cell_type": "markdown",
   "metadata": {},
   "source": [
    "## First plot"
   ]
  },
  {
   "cell_type": "markdown",
   "metadata": {},
   "source": [
    "Just for the first attempt, select host halos with Mhost > 10^13.5 Msun/h and subhalos hosted by them.\n",
    "\n",
    "Warning: the subhalo catalog only includes Vpeak > 160 km/s"
   ]
  },
  {
   "cell_type": "code",
   "execution_count": 6,
   "metadata": {
    "collapsed": true
   },
   "outputs": [],
   "source": [
    "select = arr_subhalos['Mhost'] >= 10.**13.5\n",
    "arr_tmp = arr_subhalos[select]\n",
    "\n",
    "select = np.in1d(arr_addvals['id'], arr_tmp['id'])\n",
    "arr_addvals_tmp = arr_addvals[select]"
   ]
  },
  {
   "cell_type": "code",
   "execution_count": 7,
   "metadata": {},
   "outputs": [
    {
     "name": "stdout",
     "output_type": "stream",
     "text": [
      "total number of subhalos: 822351\n",
      "      number of hosts:    75886\n",
      "      number of subhalos: 746465\n",
      "\n"
     ]
    }
   ],
   "source": [
    "print 'total number of subhalos: {0}'.format(arr_addvals_tmp.shape[0])\n",
    "print '      number of hosts:    {0}'.format(np.where(arr_addvals_tmp['upid']==-1)[0].shape[0])\n",
    "print '      number of subhalos: {0}\\n'.format(np.where(arr_addvals_tmp['upid']!=-1)[0].shape[0])"
   ]
  },
  {
   "cell_type": "code",
   "execution_count": 54,
   "metadata": {
    "collapsed": true
   },
   "outputs": [],
   "source": [
    "#radial binning setting\n",
    "num_logRbins = 50\n",
    "dlogR = (0.5+2.)/num_logRbins\n",
    "bins_logR = np.array([-2. + dlogR*i for i in xrange(num_logRbins+1)])\n",
    "meds_logR = np.array([(bins_logR[i]+bins_logR[i+1])/2. for i in xrange(num_logRbins)])\n",
    "vol_logR = np.array([4.*np.pi*(10**bins_logR[i+1])**3./3. - 4.*np.pi*(10**bins_logR[i])**3./3. \n",
    "                     for i in xrange(num_logRbins)])"
   ]
  },
  {
   "cell_type": "markdown",
   "metadata": {},
   "source": [
    "**radial profile of subhalos**"
   ]
  },
  {
   "cell_type": "code",
   "execution_count": 9,
   "metadata": {
    "collapsed": true
   },
   "outputs": [],
   "source": [
    "dndlogR = np.zeros(shape=(num_logRbins,3))\n",
    "for ibin in xrange(num_logRbins):\n",
    "    dndlogR[ibin,0] = meds_logR[ibin]\n",
    "    \n",
    "    select = np.logical_and(arr_addvals_tmp['Rsub']>=10.**bins_logR[ibin], \n",
    "                            arr_addvals_tmp['Rsub']< 10.**bins_logR[ibin+1])\n",
    "    \n",
    "    dndlogR[ibin,1] = float(arr_addvals_tmp[select].shape[0])/vol_logR[ibin]/dlogR/75886.\n",
    "    dndlogR[ibin,2] = float(arr_addvals_tmp[select].shape[0])**0.5/vol_logR[ibin]/dlogR/75886."
   ]
  },
  {
   "cell_type": "code",
   "execution_count": 10,
   "metadata": {},
   "outputs": [
    {
     "data": {
      "image/png": "[encoded data removed]",
      "text/plain": [
       "<matplotlib.figure.Figure at 0x114f7ac90>"
      ]
     },
     "metadata": {},
     "output_type": "display_data"
    }
   ],
   "source": [
    "fig_width_pt = 510                     # Suited for LaTeX\n",
    "inches_per_pt = 1.0/72.27              # Convert pt to inch\n",
    "golden_mean = (math.sqrt(5)-1.0)/2.0   # Aesthetic ratio\n",
    "#golden_mean = 1.\n",
    "fig_width = fig_width_pt*inches_per_pt # width in inches\n",
    "fig_height = fig_width*golden_mean     # height in inches\n",
    "fig_size =  [fig_width,fig_height]\n",
    "params = {'backend': 'ps',\n",
    "          'axes.linewidth' : 2,\n",
    "          'legend.fontsize': 14,\n",
    "          'text.usetex'    : False,\n",
    "          'figure.figsize' : fig_size}\n",
    "dotseq = [2, 2]\n",
    "dashdotseq = [7, 4, 3, 4]\n",
    "plt.rcParams.update(params)\n",
    "\n",
    "fig = plt.figure(1)\n",
    "plt.clf()\n",
    "## Range\n",
    "plt.subplots_adjust(left=0.075,bottom=0.13,top=0.98,right=0.98)\n",
    "ax = plt.axes([0.18,0.2,0.76,0.71])\n",
    "#ax = fig.add_subplot(121)\n",
    "## Log or Linear\n",
    "ax.set_xscale('log')\n",
    "ax.xaxis.set_major_formatter(formatter)   \n",
    "ax.set_yscale('log')\n",
    "ax.yaxis.set_major_formatter(formatter)   \n",
    "## Axis \n",
    "ax.set_xlim(0.01,2.)\n",
    "#ax.xaxis.set_major_locator(MultipleLocator(0.1))\n",
    "#ax.xaxis.set_minor_locator(MultipleLocator(0.05))\n",
    "ax.set_ylim(1.E-2,1.E5)\n",
    "#ax.set_ylim(1.2,1.8)\n",
    "#ax.yaxis.set_ticks([200.,400.,1000.,2000.])\n",
    "#ax.yaxis.set_major_locator(MultipleLocator(0.1))\n",
    "#ax.yaxis.set_minor_locator(MultipleLocator(0.05))\n",
    "ax.tick_params(which='minor', length=4, width=1.5)\n",
    "ax.tick_params(which='major', length=8, width=2, pad=5)\n",
    "for tick in ax.xaxis.get_major_ticks():\n",
    "    tick.label1.set_fontsize(17)\n",
    "    tick.tick2On = True\n",
    "for tick in ax.xaxis.get_minor_ticks():\n",
    "    tick.tick2On = True\n",
    "for tick in ax.yaxis.get_major_ticks():\n",
    "    tick.label1.set_fontsize(17)\n",
    "    tick.tick2On = True\n",
    "for tick in ax.yaxis.get_minor_ticks():\n",
    "    tick.tick2On = True\n",
    "## Axis label\n",
    "ax.set_xlabel(r'$r\\,[{\\rm Mpc}/h]$', fontsize=18)\n",
    "ax.set_ylabel(r'$dn/d\\log r$', fontsize=18)\n",
    "#ax.set_title(r'3D-HST H$\\alpha$ flux, $f_{\\rm dust}=0.7$', fontsize=17)\n",
    "#ax.hlines(y=1., xmin=1.E-18, xmax=1.E-15)\n",
    "ax.text(0.4, 1000., r'$M^{\\rm host}_{\\rm vir}>10^{13.5}$', fontsize=16)\n",
    "\n",
    "#ax.plot(arr_zp06['OII_obs'][:], arr_zp06['OII_obs_itn'][:]*arr_zp06['ape_subaru']/arr_zp06['OII_obs'][:], 'rx', ms=3)\n",
    "#ax.plot(arr_zp06['OII_obs'][:], arr_zp06['OII_obs_itn'][:]/arr_zp06['OII_obs'][:], 'bx', ms=3)\n",
    "\n",
    "\n",
    "plt.errorbar(10.**dndlogR[:,0], dndlogR[:,1], yerr=dndlogR[:, 2],\n",
    "             fmt='ko', ms=4, mfc='white', mec='k', mew=2., zorder=1)\n",
    "\n",
    "#axleg = ax.legend(loc='upper right', numpoints=1, \n",
    "#                  ncol=1, fontsize=15, borderaxespad=0.2)\n",
    "#axleg.draw_frame(False)\n",
    "\n",
    "#plt.savefig(HOMEDIR+'Desktop/OIILuminosity_Yabe-vs-LAM.png')\n",
    "plt.show()"
   ]
  },
  {
   "cell_type": "markdown",
   "metadata": {},
   "source": [
    "**velocity profile**"
   ]
  },
  {
   "cell_type": "code",
   "execution_count": 11,
   "metadata": {
    "collapsed": true
   },
   "outputs": [],
   "source": [
    "stat_vel = np.zeros(shape=(num_logRbins,4))\n",
    "for ibin in xrange(num_logRbins):\n",
    "    stat_vel[ibin,0] = meds_logR[ibin]\n",
    "    \n",
    "    select = np.logical_and(arr_addvals_tmp['Rsub']>=10.**bins_logR[ibin], \n",
    "                            arr_addvals_tmp['Rsub']< 10.**bins_logR[ibin+1])\n",
    "    \n",
    "    stat_vel[ibin,1] = arr_addvals_tmp[select]['V_r'].mean()\n",
    "    stat_vel[ibin,2] = arr_addvals_tmp[select]['V_r'].std()\n",
    "    stat_vel[ibin,3] = (arr_addvals_tmp[select]['V_phi'].std()**2.+arr_addvals_tmp[select]['V_theta'].std()**2.)**0.5"
   ]
  },
  {
   "cell_type": "code",
   "execution_count": 12,
   "metadata": {},
   "outputs": [
    {
     "data": {
      "image/png": "[encoded data removed]",
      "text/plain": [
       "<matplotlib.figure.Figure at 0x14b026dd0>"
      ]
     },
     "metadata": {},
     "output_type": "display_data"
    }
   ],
   "source": [
    "fig_width_pt = 510                     # Suited for LaTeX\n",
    "inches_per_pt = 1.0/72.27              # Convert pt to inch\n",
    "golden_mean = (math.sqrt(5)-1.0)/2.0   # Aesthetic ratio\n",
    "#golden_mean = 1.\n",
    "fig_width = fig_width_pt*inches_per_pt # width in inches\n",
    "fig_height = fig_width*golden_mean     # height in inches\n",
    "fig_size =  [fig_width,fig_height]\n",
    "params = {'backend': 'ps',\n",
    "          'axes.linewidth' : 2,\n",
    "          'legend.fontsize': 14,\n",
    "          'text.usetex'    : False,\n",
    "          'figure.figsize' : fig_size}\n",
    "dotseq = [2, 2]\n",
    "dashdotseq = [7, 4, 3, 4]\n",
    "plt.rcParams.update(params)\n",
    "\n",
    "fig = plt.figure(1)\n",
    "plt.clf()\n",
    "## Range\n",
    "plt.subplots_adjust(left=0.075,bottom=0.13,top=0.98,right=0.98)\n",
    "ax = plt.axes([0.18,0.2,0.76,0.71])\n",
    "#ax = fig.add_subplot(121)\n",
    "## Log or Linear\n",
    "ax.set_xscale('log')\n",
    "ax.xaxis.set_major_formatter(formatter)   \n",
    "#ax.set_yscale('log')\n",
    "#ax.yaxis.set_major_formatter(formatter)   \n",
    "## Axis \n",
    "ax.set_xlim(0.01,2.)\n",
    "#ax.xaxis.set_major_locator(MultipleLocator(0.1))\n",
    "#ax.xaxis.set_minor_locator(MultipleLocator(0.05))\n",
    "#ax.set_ylim(1.E-2,1.E5)\n",
    "#ax.set_ylim(1.2,1.8)\n",
    "#ax.yaxis.set_ticks([200.,400.,1000.,2000.])\n",
    "#ax.yaxis.set_major_locator(MultipleLocator(0.1))\n",
    "#ax.yaxis.set_minor_locator(MultipleLocator(0.05))\n",
    "ax.tick_params(which='minor', length=4, width=1.5)\n",
    "ax.tick_params(which='major', length=8, width=2, pad=5)\n",
    "for tick in ax.xaxis.get_major_ticks():\n",
    "    tick.label1.set_fontsize(17)\n",
    "    tick.tick2On = True\n",
    "for tick in ax.xaxis.get_minor_ticks():\n",
    "    tick.tick2On = True\n",
    "for tick in ax.yaxis.get_major_ticks():\n",
    "    tick.label1.set_fontsize(17)\n",
    "    tick.tick2On = True\n",
    "for tick in ax.yaxis.get_minor_ticks():\n",
    "    tick.tick2On = True\n",
    "## Axis label\n",
    "ax.set_xlabel(r'$r\\,[{\\rm Mpc}/h]$', fontsize=18)\n",
    "ax.set_ylabel(r'$\\overline{v_{r}}\\,[{\\rm km/s}]$', fontsize=18)\n",
    "#ax.set_title(r'3D-HST H$\\alpha$ flux, $f_{\\rm dust}=0.7$', fontsize=17)\n",
    "#ax.hlines(y=1., xmin=1.E-18, xmax=1.E-15)\n",
    "ax.text(0.4, -700., r'$M^{\\rm host}_{\\rm vir}>10^{13.5}$', fontsize=16)\n",
    "\n",
    "\n",
    "ax.plot(10.**stat_vel[:,0], stat_vel[:,1], 'k-', lw=2)\n",
    "\n",
    "\n",
    "#plt.errorbar(10.**dndlogR[:,0], dndlogR[:,1], yerr=dndlogR[:, 2],\n",
    "#             fmt='ko', ms=4, mfc='white', mec='k', mew=2., zorder=1)\n",
    "\n",
    "#axleg = ax.legend(loc='upper right', numpoints=1, \n",
    "#                  ncol=1, fontsize=15, borderaxespad=0.2)\n",
    "#axleg.draw_frame(False)\n",
    "\n",
    "#plt.savefig(HOMEDIR+'Desktop/OIILuminosity_Yabe-vs-LAM.png')\n",
    "plt.show()"
   ]
  },
  {
   "cell_type": "code",
   "execution_count": 18,
   "metadata": {},
   "outputs": [
    {
     "data": {
      "image/png": "[encoded data removed]",
      "text/plain": [
       "<matplotlib.figure.Figure at 0x14a0c3090>"
      ]
     },
     "metadata": {},
     "output_type": "display_data"
    }
   ],
   "source": [
    "fig = plt.figure(1)\n",
    "plt.clf()\n",
    "## Range\n",
    "plt.subplots_adjust(left=0.075,bottom=0.13,top=0.98,right=0.98)\n",
    "ax = plt.axes([0.18,0.2,0.76,0.71])\n",
    "#ax = fig.add_subplot(121)\n",
    "## Log or Linear\n",
    "ax.set_xscale('log')\n",
    "ax.xaxis.set_major_formatter(formatter)   \n",
    "#ax.set_yscale('log')\n",
    "#ax.yaxis.set_major_formatter(formatter)   \n",
    "## Axis \n",
    "ax.set_xlim(0.01,2.)\n",
    "#ax.xaxis.set_major_locator(MultipleLocator(0.1))\n",
    "#ax.xaxis.set_minor_locator(MultipleLocator(0.05))\n",
    "#ax.set_ylim(1.E-2,1.E5)\n",
    "#ax.set_ylim(1.2,1.8)\n",
    "#ax.yaxis.set_ticks([200.,400.,1000.,2000.])\n",
    "#ax.yaxis.set_major_locator(MultipleLocator(0.1))\n",
    "#ax.yaxis.set_minor_locator(MultipleLocator(0.05))\n",
    "ax.tick_params(which='minor', length=4, width=1.5)\n",
    "ax.tick_params(which='major', length=8, width=2, pad=5)\n",
    "for tick in ax.xaxis.get_major_ticks():\n",
    "    tick.label1.set_fontsize(17)\n",
    "    tick.tick2On = True\n",
    "for tick in ax.xaxis.get_minor_ticks():\n",
    "    tick.tick2On = True\n",
    "for tick in ax.yaxis.get_major_ticks():\n",
    "    tick.label1.set_fontsize(17)\n",
    "    tick.tick2On = True\n",
    "for tick in ax.yaxis.get_minor_ticks():\n",
    "    tick.tick2On = True\n",
    "## Axis label\n",
    "ax.set_xlabel(r'$r\\,[{\\rm Mpc}/h]$', fontsize=18)\n",
    "ax.set_ylabel(r'$\\sigma_{r}(r)\\,[{\\rm km/s}]$', fontsize=18)\n",
    "#ax.set_title(r'3D-HST H$\\alpha$ flux, $f_{\\rm dust}=0.7$', fontsize=17)\n",
    "#ax.hlines(y=1., xmin=1.E-18, xmax=1.E-15)\n",
    "ax.text(0.1, 1000., r'$M^{\\rm host}_{\\rm vir}>10^{13.5}$', fontsize=16)\n",
    "\n",
    "\n",
    "ax.plot(10.**stat_vel[:,0], stat_vel[:,2], 'k-', lw=2)\n",
    "\n",
    "\n",
    "#plt.errorbar(10.**dndlogR[:,0], dndlogR[:,1], yerr=dndlogR[:, 2],\n",
    "#             fmt='ko', ms=4, mfc='white', mec='k', mew=2., zorder=1)\n",
    "\n",
    "#axleg = ax.legend(loc='upper right', numpoints=1, \n",
    "#                  ncol=1, fontsize=15, borderaxespad=0.2)\n",
    "#axleg.draw_frame(False)\n",
    "\n",
    "#plt.savefig(HOMEDIR+'Desktop/OIILuminosity_Yabe-vs-LAM.png')\n",
    "plt.show()"
   ]
  },
  {
   "cell_type": "markdown",
   "metadata": {},
   "source": [
    "**anisotropy parameter**\n",
    "\n",
    "\\begin{equation}\n",
    "  \\beta = 1-\\frac{\\sigma_{\\phi}^{2}+\\sigma_{\\theta}^{2}}{2\\sigma_{r}^{2}}\n",
    "\\end{equation}"
   ]
  },
  {
   "cell_type": "code",
   "execution_count": 13,
   "metadata": {},
   "outputs": [
    {
     "data": {
      "image/png": "[encoded data removed]",
      "text/plain": [
       "<matplotlib.figure.Figure at 0x14a0befd0>"
      ]
     },
     "metadata": {},
     "output_type": "display_data"
    }
   ],
   "source": [
    "fig_width_pt = 510                     # Suited for LaTeX\n",
    "inches_per_pt = 1.0/72.27              # Convert pt to inch\n",
    "golden_mean = (math.sqrt(5)-1.0)/2.0   # Aesthetic ratio\n",
    "#golden_mean = 1.\n",
    "fig_width = fig_width_pt*inches_per_pt # width in inches\n",
    "fig_height = fig_width*golden_mean     # height in inches\n",
    "fig_size =  [fig_width,fig_height]\n",
    "params = {'backend': 'ps',\n",
    "          'axes.linewidth' : 2,\n",
    "          'legend.fontsize': 14,\n",
    "          'text.usetex'    : False,\n",
    "          'figure.figsize' : fig_size}\n",
    "dotseq = [2, 2]\n",
    "dashdotseq = [7, 4, 3, 4]\n",
    "plt.rcParams.update(params)\n",
    "\n",
    "fig = plt.figure(1)\n",
    "plt.clf()\n",
    "## Range\n",
    "plt.subplots_adjust(left=0.075,bottom=0.13,top=0.98,right=0.98)\n",
    "ax = plt.axes([0.18,0.2,0.76,0.71])\n",
    "#ax = fig.add_subplot(121)\n",
    "## Log or Linear\n",
    "ax.set_xscale('log')\n",
    "ax.xaxis.set_major_formatter(formatter)   \n",
    "#ax.set_yscale('log')\n",
    "#ax.yaxis.set_major_formatter(formatter)   \n",
    "## Axis \n",
    "ax.set_xlim(0.01,2.)\n",
    "#ax.xaxis.set_major_locator(MultipleLocator(0.1))\n",
    "#ax.xaxis.set_minor_locator(MultipleLocator(0.05))\n",
    "#ax.set_ylim(1.E-2,1.E5)\n",
    "#ax.set_ylim(1.2,1.8)\n",
    "#ax.yaxis.set_ticks([200.,400.,1000.,2000.])\n",
    "#ax.yaxis.set_major_locator(MultipleLocator(0.1))\n",
    "#ax.yaxis.set_minor_locator(MultipleLocator(0.05))\n",
    "ax.tick_params(which='minor', length=4, width=1.5)\n",
    "ax.tick_params(which='major', length=8, width=2, pad=5)\n",
    "for tick in ax.xaxis.get_major_ticks():\n",
    "    tick.label1.set_fontsize(17)\n",
    "    tick.tick2On = True\n",
    "for tick in ax.xaxis.get_minor_ticks():\n",
    "    tick.tick2On = True\n",
    "for tick in ax.yaxis.get_major_ticks():\n",
    "    tick.label1.set_fontsize(17)\n",
    "    tick.tick2On = True\n",
    "for tick in ax.yaxis.get_minor_ticks():\n",
    "    tick.tick2On = True\n",
    "## Axis label\n",
    "ax.set_xlabel(r'$r\\,[{\\rm Mpc}/h]$', fontsize=18)\n",
    "ax.set_ylabel(r'$\\beta$', fontsize=18)\n",
    "#ax.set_title(r'3D-HST H$\\alpha$ flux, $f_{\\rm dust}=0.7$', fontsize=17)\n",
    "#ax.hlines(y=1., xmin=1.E-18, xmax=1.E-15)\n",
    "ax.text(0.4, 0.05, r'$M^{\\rm host}_{\\rm vir}>10^{13.5}$', fontsize=16)\n",
    "\n",
    "\n",
    "ax.plot(10.**stat_vel[:,0], 1.-stat_vel[:,3]**2./2./stat_vel[:,2]**2., 'k-', lw=2)\n",
    "\n",
    "\n",
    "#plt.errorbar(10.**dndlogR[:,0], dndlogR[:,1], yerr=dndlogR[:, 2],\n",
    "#             fmt='ko', ms=4, mfc='white', mec='k', mew=2., zorder=1)\n",
    "\n",
    "#axleg = ax.legend(loc='upper right', numpoints=1, \n",
    "#                  ncol=1, fontsize=15, borderaxespad=0.2)\n",
    "#axleg.draw_frame(False)\n",
    "\n",
    "#plt.savefig(HOMEDIR+'Desktop/OIILuminosity_Yabe-vs-LAM.png')\n",
    "plt.show()"
   ]
  },
  {
   "cell_type": "markdown",
   "metadata": {
    "collapsed": true
   },
   "source": [
    "## Jean's equation"
   ]
  },
  {
   "cell_type": "markdown",
   "metadata": {},
   "source": [
    "See e.g. [Wojtak+(2005)](http://adsabs.harvard.edu/cgi-bin/bib_query?arXiv:astro-ph/0503391).\n",
    "\n",
    "\\begin{equation}\n",
    " \\frac{d}{dr}\\left\\{\\rho(r)\\sigma_{r}^{2}(r)\\right\\}+\\frac{2\\beta}{r}\\rho(r)\\sigma_{r}^{2}(r)\n",
    " +\\rho(r)\\frac{d\\Phi}{dr} = 0, \n",
    "\\end{equation}\n",
    "where $\\rho(r)$ and $\\sigma_{r}(r)$ are the density and radial velocity dipersion profile of the tracer population. \n",
    "\n",
    "In the NFW halo, the gravitational potential is simple given by\n",
    "\\begin{equation}\n",
    " \\frac{\\Phi(s)}{V^{2}_{\\rm vir}} = -g(c)\\frac{\\ln(1+cs)}{c}, \n",
    "\\end{equation}\n",
    "where $s=r/r_{\\rm vir}$, $g(c)=[\\ln(1+c)-c/(1+c)]^{-1}$, and $V^{2}_{\\rm vir}=GM_{\\rm vir}/r_{\\rm vir}$. \n",
    "\n",
    "In this case the Jean's equation is rewritten as\n",
    "\\begin{equation}\n",
    " \\frac{d}{ds}\\left\\{\\rho(s)\\frac{\\sigma_{r}^{2}(s)}{V_{\\rm vir}^{2}}\\right\\}\n",
    " +\\frac{2\\beta}{s}\\left\\{\\rho(s)\\frac{\\sigma_{r}^{2}(s)}{V_{\\rm vir}^{2}}\\right\\}\n",
    " =-\\rho(s)\\frac{d\\Phi}{ds}\\frac{1}{V_{\\rm vir}^{2}}.\n",
    "\\end{equation}"
   ]
  },
  {
   "cell_type": "code",
   "execution_count": 64,
   "metadata": {
    "collapsed": true
   },
   "outputs": [],
   "source": [
    "select = arr_subhalos['Mhost'] >= 10.**13.5\n",
    "arr_tmp = arr_subhalos[select]\n",
    "\n",
    "select = np.in1d(arr_addvals['id'], arr_tmp['id'])\n",
    "select_sub = np.logical_and(select, arr_addvals['upid']!=-1)\n",
    "arr_addvals_tmp = arr_addvals[select_sub]"
   ]
  },
  {
   "cell_type": "code",
   "execution_count": 53,
   "metadata": {
    "scrolled": true
   },
   "outputs": [
    {
     "data": {
      "text/plain": [
       "5.2562912405461422"
      ]
     },
     "execution_count": 53,
     "metadata": {},
     "output_type": "execute_result"
    }
   ],
   "source": [
    "arr_addvals_tmp[arr_addvals_tmp['upid']==-1]['cvir_host'].mean()"
   ]
  },
  {
   "cell_type": "code",
   "execution_count": 59,
   "metadata": {
    "collapsed": true
   },
   "outputs": [],
   "source": [
    "def func_g(c):\n",
    "    return 1./(np.log(1.+c)-c/(1.+c))\n",
    "\n",
    "def func_minus_dPhids_perVvir2(s, c):\n",
    "    return func_g(c)*(c*s/(1.+c*s)-np.log(1.+c*s))/s**2."
   ]
  },
  {
   "cell_type": "code",
   "execution_count": 89,
   "metadata": {
    "collapsed": true
   },
   "outputs": [],
   "source": [
    "#radial binning setting\n",
    "num_logsbins = 80\n",
    "dlogs = (1.+2.)/num_logsbins\n",
    "bins_logs = np.array([-2. + dlogs*i for i in xrange(num_logsbins+1)])\n",
    "meds_logs = np.array([(bins_logs[i]+bins_logs[i+1])/2. for i in xrange(num_logsbins)])\n",
    "vol_logs = np.array([4.*np.pi*(10**bins_logs[i+1])**3./3. - 4.*np.pi*(10**bins_logs[i])**3./3. \n",
    "                     for i in xrange(num_logsbins)])"
   ]
  },
  {
   "cell_type": "code",
   "execution_count": 65,
   "metadata": {},
   "outputs": [],
   "source": [
    "#first rescale with rvir and Vvir\n",
    "arr_addvals_tmp['Rsub'][:] = arr_addvals_tmp['Rsub'][:]/arr_addvals_tmp['rvir_host'][:]\n",
    "arr_addvals_tmp['V_r'][:] = arr_addvals_tmp['V_r'][:]/arr_addvals_tmp['Vvir_host'][:]\n",
    "arr_addvals_tmp['V_phi'][:] = arr_addvals_tmp['V_phi'][:]/arr_addvals_tmp['Vvir_host'][:]\n",
    "arr_addvals_tmp['V_theta'][:] = arr_addvals_tmp['V_theta'][:]/arr_addvals_tmp['Vvir_host'][:]"
   ]
  },
  {
   "cell_type": "code",
   "execution_count": 90,
   "metadata": {
    "collapsed": true
   },
   "outputs": [],
   "source": [
    "dndlogs = np.zeros(shape=(num_logsbins))\n",
    "sig_vr = np.zeros(shape=(num_logsbins))\n",
    "beta = np.zeros(shape=(num_logsbins))\n",
    "\n",
    "for ibin in xrange(num_logsbins):\n",
    "    select = np.logical_and(arr_addvals_tmp['Rsub']>=10.**bins_logs[ibin], \n",
    "                            arr_addvals_tmp['Rsub']< 10.**bins_logs[ibin+1])\n",
    "    \n",
    "    dndlogs[ibin] = float(arr_addvals_tmp[select].shape[0])/vol_logs[ibin]/dlogs/75886.\n",
    "    sig_vr[ibin] = arr_addvals_tmp[select]['V_r'].std()\n",
    "    beta[ibin] = 1.-(arr_addvals_tmp[select]['V_phi'].std()**2.+arr_addvals_tmp[select]['V_theta'].std()**2.)/2.*sig_vr[ibin]**2."
   ]
  },
  {
   "cell_type": "code",
   "execution_count": 91,
   "metadata": {},
   "outputs": [
    {
     "data": {
      "image/png": "[encoded data removed]",
      "text/plain": [
       "<matplotlib.figure.Figure at 0x1116d3c90>"
      ]
     },
     "metadata": {},
     "output_type": "display_data"
    }
   ],
   "source": [
    "fig_width_pt = 510                     # Suited for LaTeX\n",
    "inches_per_pt = 1.0/72.27              # Convert pt to inch\n",
    "golden_mean = (math.sqrt(5)-1.0)/2.0   # Aesthetic ratio\n",
    "#golden_mean = 1.\n",
    "fig_width = fig_width_pt*inches_per_pt # width in inches\n",
    "fig_height = fig_width*golden_mean     # height in inches\n",
    "fig_size =  [fig_width,fig_height]\n",
    "params = {'backend': 'ps',\n",
    "          'axes.linewidth' : 2,\n",
    "          'legend.fontsize': 14,\n",
    "          'text.usetex'    : False,\n",
    "          'figure.figsize' : fig_size}\n",
    "dotseq = [2, 2]\n",
    "dashdotseq = [7, 4, 3, 4]\n",
    "plt.rcParams.update(params)\n",
    "\n",
    "fig = plt.figure(1)\n",
    "plt.clf()\n",
    "## Range\n",
    "plt.subplots_adjust(left=0.075,bottom=0.13,top=0.98,right=0.98)\n",
    "ax = plt.axes([0.18,0.2,0.76,0.71])\n",
    "#ax = fig.add_subplot(121)\n",
    "## Log or Linear\n",
    "ax.set_xscale('log')\n",
    "ax.xaxis.set_major_formatter(formatter)   \n",
    "#ax.set_yscale('log')\n",
    "#ax.yaxis.set_major_formatter(formatter)   \n",
    "## Axis \n",
    "ax.set_xlim(0.01,2.)\n",
    "#ax.xaxis.set_major_locator(MultipleLocator(0.1))\n",
    "#ax.xaxis.set_minor_locator(MultipleLocator(0.05))\n",
    "#ax.set_ylim(1.E-2,1.E5)\n",
    "ax.set_ylim(-15.,2.)\n",
    "#ax.yaxis.set_ticks([200.,400.,1000.,2000.])\n",
    "#ax.yaxis.set_major_locator(MultipleLocator(0.1))\n",
    "#ax.yaxis.set_minor_locator(MultipleLocator(0.05))\n",
    "ax.tick_params(which='minor', length=4, width=1.5)\n",
    "ax.tick_params(which='major', length=8, width=2, pad=5)\n",
    "for tick in ax.xaxis.get_major_ticks():\n",
    "    tick.label1.set_fontsize(17)\n",
    "    tick.tick2On = True\n",
    "for tick in ax.xaxis.get_minor_ticks():\n",
    "    tick.tick2On = True\n",
    "for tick in ax.yaxis.get_major_ticks():\n",
    "    tick.label1.set_fontsize(17)\n",
    "    tick.tick2On = True\n",
    "for tick in ax.yaxis.get_minor_ticks():\n",
    "    tick.tick2On = True\n",
    "## Axis label\n",
    "ax.set_xlabel(r'$s=r/r_{\\rm vir}$', fontsize=18)\n",
    "ax.set_ylabel(r'$-d\\Phi/ds/V_{\\rm vir}^{2}$', fontsize=18)\n",
    "#ax.set_title(r'3D-HST H$\\alpha$ flux, $f_{\\rm dust}=0.7$', fontsize=17)\n",
    "#ax.hlines(y=1., xmin=1.E-18, xmax=1.E-15)\n",
    "#ax.text(0.4, 0.05, r'$M^{\\rm host}_{\\rm vir}>10^{13.5}$', fontsize=16)\n",
    "\n",
    "\n",
    "#ax.plot(10.**stat_vel[:,0], 1.-stat_vel[:,3]**2./2./stat_vel[:,2]**2., 'k-', lw=2)\n",
    "\n",
    "c_mean = 5.2562912405461422\n",
    "ax.plot(10.**meds_logs[:], func_minus_dPhids_perVvir2(10.**meds_logs[:], c_mean), 'k-', lw=2, label='r.h.s')\n",
    "\n",
    "arr_1st_term = np.zeros(shape=(num_logsbins-2,2))\n",
    "arr_2nd_term = np.zeros(shape=(num_logsbins-2))\n",
    "for i in xrange(num_logsbins-2):\n",
    "    arr_1st_term[i, 0] = meds_logs[i+1]\n",
    "    arr_1st_term[i, 1] = (dndlogs[i+2]*sig_vr[i+2]**2.-dndlogs[i]*sig_vr[i]**2.)/(10.**meds_logs[i+2]-10.**meds_logs[i])/dndlogs[i+1]\n",
    "    arr_2nd_term[i] = 2.*sig_vr[i+1]**2.*beta[i+1]/10.**meds_logs[i+1]\n",
    "ax.plot(arr_1st_term[:,0], arr_1st_term[:,1], 'r-', lw=2, label='1st in l.h.s')\n",
    "ax.plot(arr_1st_term[:,0], arr_1st_term[:,1]+arr_2nd_term[:], 'b-', lw=2, label='1st+2nd term')\n",
    "\n",
    "#plt.errorbar(10.**dndlogR[:,0], dndlogR[:,1], yerr=dndlogR[:, 2],\n",
    "#             fmt='ko', ms=4, mfc='white', mec='k', mew=2., zorder=1)\n",
    "\n",
    "axleg = ax.legend(loc='upper left', numpoints=1, \n",
    "                  ncol=1, fontsize=15, borderaxespad=0.2)\n",
    "axleg.draw_frame(False)\n",
    "\n",
    "#plt.savefig(HOMEDIR+'Desktop/OIILuminosity_Yabe-vs-LAM.png')\n",
    "plt.show()"
   ]
  },
  {
   "cell_type": "code",
   "execution_count": null,
   "metadata": {
    "collapsed": true
   },
   "outputs": [],
   "source": []
  }
 ],
 "metadata": {
  "kernelspec": {
   "display_name": "Python 2",
   "language": "python",
   "name": "python2"
  },
  "language_info": {
   "codemirror_mode": {
    "name": "ipython",
    "version": 2
   },
   "file_extension": ".py",
   "mimetype": "text/x-python",
   "name": "python",
   "nbconvert_exporter": "python",
   "pygments_lexer": "ipython2",
   "version": "2.7.13"
  },
  "nav_menu": {},
  "toc": {
   "navigate_menu": true,
   "number_sections": true,
   "sideBar": true,
   "threshold": 6,
   "toc_cell": false,
   "toc_section_display": "block",
   "toc_window_display": true
  }
 },
 "nbformat": 4,
 "nbformat_minor": 2
}
